{
 "cells": [
  {
   "cell_type": "code",
   "execution_count": 1,
   "metadata": {},
   "outputs": [],
   "source": [
    "import pandas as pd"
   ]
  },
  {
   "cell_type": "code",
   "execution_count": 2,
   "metadata": {},
   "outputs": [],
   "source": [
    "csv_filename =\"../data/c2k_data_comma.csv\""
   ]
  },
  {
   "cell_type": "code",
   "execution_count": 3,
   "metadata": {},
   "outputs": [],
   "source": [
    "df = pd.read_csv(csv_filename)"
   ]
  },
  {
   "cell_type": "markdown",
   "metadata": {},
   "source": [
    "# Python Basic Data Types\n",
    "\n",
    "- Numbers\n",
    "    - integers\n",
    "    - floating point numbers\n",
    "    - complex numbers\n",
    "- strings\n",
    "- boolean\n",
    "\n",
    "![Python Logo](python-logo.png)"
   ]
  },
  {
   "cell_type": "code",
   "execution_count": 7,
   "metadata": {},
   "outputs": [
    {
     "name": "stdout",
     "output_type": "stream",
     "text": [
      " Volume in drive C is Windows\n",
      " Volume Serial Number is 2E52-0B9C\n",
      "\n",
      " Directory of C:\\Users\\ati_o\\Projects\\github\\course-python\\Examples\n",
      "\n",
      "11/18/2019  10:40 AM    <DIR>          .\n",
      "11/18/2019  10:40 AM    <DIR>          ..\n",
      "11/18/2019  10:23 AM    <DIR>          .ipynb_checkpoints\n",
      "11/18/2019  09:14 AM             2,664 BabyNames.csv\n",
      "11/11/2019  09:01 AM               527 dict_example1.py\n",
      "11/11/2019  11:02 AM                33 error_example1.py\n",
      "11/11/2019  11:02 AM                35 error_example2.py\n",
      "11/11/2019  11:03 AM                36 error_example3.py\n",
      "11/11/2019  11:03 AM                35 error_example4.py\n",
      "10/14/2019  09:46 AM               926 examples_function0.py\n",
      "10/14/2019  09:07 AM               485 examples_function1.py\n",
      "10/14/2019  09:43 AM               170 examples_function2.py\n",
      "11/18/2019  09:39 AM             2,555 example_baby_names.ipynb\n",
      "10/14/2019  07:43 AM                68 example_break.py\n",
      "11/18/2019  10:20 AM             2,855 example_Cargo_2000.ipynb\n",
      "10/14/2019  08:27 AM               317 example_continue.py\n",
      "10/12/2019  10:20 PM               433 example_Q1.py\n",
      "11/11/2019  11:06 AM                25 exception_example1.py\n",
      "11/11/2019  11:07 AM                23 exception_example2.py\n",
      "11/11/2019  11:13 AM               215 exception_example3_file1.py\n",
      "11/11/2019  11:17 AM               277 exception_example3_file2.py\n",
      "11/11/2019  11:21 AM               295 exception_example3_file3.py\n",
      "09/23/2019  09:58 AM               294 fahrenheitcelcius.py\n",
      "10/12/2019  10:20 PM                26 function_overwrite1.py\n",
      "10/18/2019  09:48 AM                57 hello.py\n",
      "10/18/2019  09:48 AM                59 hello2.py\n",
      "09/16/2019  09:26 AM                20 hello3.py\n",
      "09/23/2019  08:15 AM               274 hello4.py\n",
      "09/16/2019  06:47 PM                19 hello_python2.py\n",
      "10/14/2019  08:31 AM                81 infinite_loop1.py\n",
      "09/16/2019  09:18 AM               198 input_example.py\n",
      "11/18/2019  10:20 AM             1,787 matplotlib_inline.ipynb\n",
      "10/12/2019  10:20 PM               241 prime_example.py\n",
      "11/18/2019  10:40 AM            16,344 python-logo.png\n",
      "10/14/2019  08:16 AM               399 question_random_card21.py\n",
      "10/14/2019  08:02 AM               175 question_random_dice1.py\n",
      "11/11/2019  09:14 AM               169 tuple_example1.py\n",
      "11/18/2019  10:39 AM             1,282 Untitled.ipynb\n",
      "              35 File(s)         33,399 bytes\n",
      "               3 Dir(s)  57,992,433,664 bytes free\n"
     ]
    }
   ],
   "source": [
    "!dir"
   ]
  },
  {
   "cell_type": "code",
   "execution_count": null,
   "metadata": {},
   "outputs": [],
   "source": []
  }
 ],
 "metadata": {
  "kernelspec": {
   "display_name": "Python 3",
   "language": "python",
   "name": "python3"
  },
  "language_info": {
   "codemirror_mode": {
    "name": "ipython",
    "version": 3
   },
   "file_extension": ".py",
   "mimetype": "text/x-python",
   "name": "python",
   "nbconvert_exporter": "python",
   "pygments_lexer": "ipython3",
   "version": "3.7.1"
  }
 },
 "nbformat": 4,
 "nbformat_minor": 2
}
